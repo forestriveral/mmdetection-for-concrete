{
 "cells": [
  {
   "cell_type": "code",
   "execution_count": 4,
   "metadata": {
    "ExecuteTime": {
     "end_time": "2019-04-26T03:52:18.820746Z",
     "start_time": "2019-04-26T03:52:18.615529Z"
    },
    "run_control": {
     "marked": true
    }
   },
   "outputs": [],
   "source": [
    "%load_ext autoreload\n",
    "%autoreload 2\n",
    "%matplotlib inline\n",
    "from visualization import *\n",
    "import os\n",
    "import pandas as pd\n",
    "import numpy as np\n",
    "import json\n",
    "import math\n",
    "import re\n",
    "import string"
   ]
  },
  {
   "cell_type": "code",
   "execution_count": 2,
   "metadata": {
    "ExecuteTime": {
     "end_time": "2019-04-25T14:37:59.510138Z",
     "start_time": "2019-04-25T14:37:59.471622Z"
    },
    "run_control": {
     "marked": true
    }
   },
   "outputs": [],
   "source": [
    "log_path = \"../work_dirs/cm_rcnn_10164/20190425_143827.log\""
   ]
  },
  {
   "cell_type": "code",
   "execution_count": 3,
   "metadata": {
    "ExecuteTime": {
     "end_time": "2019-04-25T14:38:00.564679Z",
     "start_time": "2019-04-25T14:38:00.525605Z"
    },
    "run_control": {
     "marked": true
    }
   },
   "outputs": [],
   "source": [
    "data = read_log(path)"
   ]
  },
  {
   "cell_type": "code",
   "execution_count": 4,
   "metadata": {
    "ExecuteTime": {
     "end_time": "2019-04-25T14:38:01.697827Z",
     "start_time": "2019-04-25T14:38:01.670627Z"
    },
    "collapsed": true
   },
   "outputs": [
    {
     "data": {
      "text/plain": [
       "{'name': 'cm_rcnn_10164',\n",
       " 'epochs': 12,\n",
       " 'iters': 700,\n",
       " 'loss': [1.4504,\n",
       "  0.8318,\n",
       "  0.8075,\n",
       "  0.6568,\n",
       "  0.7239,\n",
       "  0.7082,\n",
       "  0.6027,\n",
       "  0.6443,\n",
       "  0.6054,\n",
       "  0.6848,\n",
       "  0.6591,\n",
       "  0.6918,\n",
       "  0.6015,\n",
       "  0.5497,\n",
       "  0.5548,\n",
       "  0.5491,\n",
       "  0.5131,\n",
       "  0.5448,\n",
       "  0.5688,\n",
       "  0.6427,\n",
       "  0.5491,\n",
       "  0.5192,\n",
       "  0.5745,\n",
       "  0.5344,\n",
       "  0.5541,\n",
       "  0.5182,\n",
       "  0.5304,\n",
       "  0.4948,\n",
       "  0.5296,\n",
       "  0.4891,\n",
       "  0.539,\n",
       "  0.5337,\n",
       "  0.4832,\n",
       "  0.5044,\n",
       "  0.4893,\n",
       "  0.4729,\n",
       "  0.4882,\n",
       "  0.4976,\n",
       "  0.5215,\n",
       "  0.5176,\n",
       "  0.5321,\n",
       "  0.4844,\n",
       "  0.4323,\n",
       "  0.4212,\n",
       "  0.4095,\n",
       "  0.4101,\n",
       "  0.3961,\n",
       "  0.4395,\n",
       "  0.434,\n",
       "  0.4138,\n",
       "  0.3843,\n",
       "  0.4137,\n",
       "  0.3891,\n",
       "  0.4146,\n",
       "  0.4265,\n",
       "  0.382,\n",
       "  0.435,\n",
       "  0.3902,\n",
       "  0.4037,\n",
       "  0.3748,\n",
       "  0.3483,\n",
       "  0.3716,\n",
       "  0.4069,\n",
       "  0.3753,\n",
       "  0.3528,\n",
       "  0.398,\n",
       "  0.3921,\n",
       "  0.3846,\n",
       "  0.3816,\n",
       "  0.3786,\n",
       "  0.3504,\n",
       "  0.3596,\n",
       "  0.3632,\n",
       "  0.386,\n",
       "  0.3541,\n",
       "  0.38,\n",
       "  0.3502,\n",
       "  0.3849,\n",
       "  0.3476,\n",
       "  0.3773,\n",
       "  0.3404,\n",
       "  0.3695,\n",
       "  0.3483,\n",
       "  0.3495],\n",
       " 'lr': [0.002,\n",
       "  0.00233,\n",
       "  0.00266,\n",
       "  0.003,\n",
       "  0.00333,\n",
       "  0.00366,\n",
       "  0.004,\n",
       "  0.00433,\n",
       "  0.00466,\n",
       "  0.005,\n",
       "  0.005,\n",
       "  0.005,\n",
       "  0.005,\n",
       "  0.005,\n",
       "  0.005,\n",
       "  0.005,\n",
       "  0.005,\n",
       "  0.005,\n",
       "  0.005,\n",
       "  0.005,\n",
       "  0.005,\n",
       "  0.005,\n",
       "  0.005,\n",
       "  0.005,\n",
       "  0.005,\n",
       "  0.005,\n",
       "  0.005,\n",
       "  0.005,\n",
       "  0.005,\n",
       "  0.005,\n",
       "  0.005,\n",
       "  0.005,\n",
       "  0.005,\n",
       "  0.005,\n",
       "  0.005,\n",
       "  0.005,\n",
       "  0.005,\n",
       "  0.005,\n",
       "  0.005,\n",
       "  0.005,\n",
       "  0.005,\n",
       "  0.005,\n",
       "  0.0005,\n",
       "  0.0005,\n",
       "  0.0005,\n",
       "  0.0005,\n",
       "  0.0005,\n",
       "  0.0005,\n",
       "  0.0005,\n",
       "  0.0005,\n",
       "  0.0005,\n",
       "  0.0005,\n",
       "  0.0005,\n",
       "  0.0005,\n",
       "  0.0005,\n",
       "  0.0005,\n",
       "  0.0005,\n",
       "  0.0005,\n",
       "  0.0005,\n",
       "  0.0005,\n",
       "  0.0005,\n",
       "  0.0005,\n",
       "  0.0005,\n",
       "  0.0005,\n",
       "  0.0005,\n",
       "  0.0005,\n",
       "  0.0005,\n",
       "  0.0005,\n",
       "  0.0005,\n",
       "  0.0005,\n",
       "  5e-05,\n",
       "  5e-05,\n",
       "  5e-05,\n",
       "  5e-05,\n",
       "  5e-05,\n",
       "  5e-05,\n",
       "  5e-05,\n",
       "  5e-05,\n",
       "  5e-05,\n",
       "  5e-05,\n",
       "  5e-05,\n",
       "  5e-05,\n",
       "  5e-05,\n",
       "  5e-05],\n",
       " 'val': [1.0145,\n",
       "  0.7348,\n",
       "  0.6514,\n",
       "  0.5564,\n",
       "  0.6223,\n",
       "  0.6476,\n",
       "  0.5373,\n",
       "  0.5125,\n",
       "  0.6018,\n",
       "  0.6548,\n",
       "  0.5471,\n",
       "  0.5584,\n",
       "  0.5694,\n",
       "  0.4985,\n",
       "  0.573,\n",
       "  0.4968,\n",
       "  0.4896,\n",
       "  0.7259,\n",
       "  0.6649,\n",
       "  0.6304,\n",
       "  0.5181,\n",
       "  0.4754,\n",
       "  0.4778,\n",
       "  0.5049,\n",
       "  0.5175,\n",
       "  0.5022,\n",
       "  0.4921,\n",
       "  0.5005,\n",
       "  0.4428,\n",
       "  0.5204,\n",
       "  0.5454,\n",
       "  0.5305,\n",
       "  0.4599,\n",
       "  0.4688,\n",
       "  0.4728,\n",
       "  0.4622,\n",
       "  0.4232,\n",
       "  0.5623,\n",
       "  0.5741,\n",
       "  0.4935,\n",
       "  0.5532,\n",
       "  0.4601,\n",
       "  0.43,\n",
       "  0.4048,\n",
       "  0.4297,\n",
       "  0.415,\n",
       "  0.3795,\n",
       "  0.4119,\n",
       "  0.4824,\n",
       "  0.4004,\n",
       "  0.3779,\n",
       "  0.4434,\n",
       "  0.441,\n",
       "  0.3869,\n",
       "  0.4042,\n",
       "  0.3707,\n",
       "  0.3869,\n",
       "  0.4136,\n",
       "  0.4364,\n",
       "  0.3202,\n",
       "  0.431,\n",
       "  0.4158,\n",
       "  0.4157,\n",
       "  0.4246,\n",
       "  0.4418,\n",
       "  0.4217,\n",
       "  0.4133,\n",
       "  0.4225,\n",
       "  0.3892,\n",
       "  0.3579,\n",
       "  0.4086,\n",
       "  0.4505,\n",
       "  0.3735,\n",
       "  0.4312,\n",
       "  0.435,\n",
       "  0.3667,\n",
       "  0.394,\n",
       "  0.338,\n",
       "  0.4134,\n",
       "  0.3962,\n",
       "  0.4154,\n",
       "  0.394,\n",
       "  0.4144,\n",
       "  0.3643],\n",
       " 'memory': [3933,\n",
       "  3999,\n",
       "  3999,\n",
       "  3999,\n",
       "  3999,\n",
       "  3999,\n",
       "  4028,\n",
       "  4028,\n",
       "  4028,\n",
       "  4028,\n",
       "  4028,\n",
       "  4028,\n",
       "  4028,\n",
       "  4028,\n",
       "  4028,\n",
       "  4072,\n",
       "  4072,\n",
       "  4072,\n",
       "  4072,\n",
       "  4072,\n",
       "  4072,\n",
       "  4072,\n",
       "  4072,\n",
       "  4072,\n",
       "  4072,\n",
       "  4072,\n",
       "  4072,\n",
       "  4072,\n",
       "  4072,\n",
       "  4117,\n",
       "  4161,\n",
       "  4161,\n",
       "  4161,\n",
       "  4163,\n",
       "  4285,\n",
       "  4285,\n",
       "  4285,\n",
       "  4310,\n",
       "  4348,\n",
       "  4449,\n",
       "  4449,\n",
       "  4545,\n",
       "  4545,\n",
       "  4545,\n",
       "  4545,\n",
       "  4545,\n",
       "  4545,\n",
       "  4560,\n",
       "  4560,\n",
       "  4566,\n",
       "  4566,\n",
       "  4566,\n",
       "  4566,\n",
       "  4575,\n",
       "  4575,\n",
       "  4575,\n",
       "  4575,\n",
       "  4575,\n",
       "  4654,\n",
       "  4654,\n",
       "  4654,\n",
       "  4654,\n",
       "  4654,\n",
       "  4654,\n",
       "  4654,\n",
       "  4654,\n",
       "  4654,\n",
       "  4654,\n",
       "  4654,\n",
       "  4654,\n",
       "  4654,\n",
       "  4654,\n",
       "  4654,\n",
       "  4654,\n",
       "  4654,\n",
       "  4670,\n",
       "  4670,\n",
       "  4670,\n",
       "  4670,\n",
       "  4670,\n",
       "  4670,\n",
       "  4670,\n",
       "  4670,\n",
       "  4670],\n",
       " 'interval': 100}"
      ]
     },
     "execution_count": 4,
     "metadata": {},
     "output_type": "execute_result"
    }
   ],
   "source": [
    "data"
   ]
  },
  {
   "cell_type": "code",
   "execution_count": 10,
   "metadata": {
    "ExecuteTime": {
     "end_time": "2019-04-25T14:44:22.018710Z",
     "start_time": "2019-04-25T14:44:20.981206Z"
    }
   },
   "outputs": [
    {
     "name": "stdout",
     "output_type": "stream",
     "text": [
      " Save done![../detection/cm_rcnn_10164/learning_curve.png]\n"
     ]
    },
    {
     "data": {
      "image/png": "[encoded data removed]",
      "text/plain": [
       "<Figure size 576x432 with 1 Axes>"
      ]
     },
     "metadata": {
      "needs_background": "light"
     },
     "output_type": "display_data"
    }
   ],
   "source": [
    "save_1 = True\n",
    "path_1 = \"../detection/cm_rcnn_10164/learning_curve.png\"\n",
    "\n",
    "plot_training_curve(data, plot=\"loss\", save=save_1, save_path=path_1)"
   ]
  },
  {
   "cell_type": "code",
   "execution_count": 11,
   "metadata": {
    "ExecuteTime": {
     "end_time": "2019-04-25T14:44:25.935975Z",
     "start_time": "2019-04-25T14:44:24.927557Z"
    }
   },
   "outputs": [
    {
     "name": "stdout",
     "output_type": "stream",
     "text": [
      " Save done![../detection/cm_rcnn_10164/learing_rate.png]\n"
     ]
    },
    {
     "data": {
      "image/png": "[encoded data removed]",
      "text/plain": [
       "<Figure size 576x432 with 1 Axes>"
      ]
     },
     "metadata": {
      "needs_background": "light"
     },
     "output_type": "display_data"
    }
   ],
   "source": [
    "save_2 = True\n",
    "path_2 = \"../detection/cm_rcnn_10164/learing_rate.png\"\n",
    "\n",
    "plot_training_curve(data, plot=\"lr\", save=save_2, save_path=path_2)"
   ]
  },
  {
   "cell_type": "code",
   "execution_count": 36,
   "metadata": {
    "ExecuteTime": {
     "end_time": "2019-04-26T07:45:13.389366Z",
     "start_time": "2019-04-26T07:45:13.201426Z"
    },
    "run_control": {
     "marked": false
    }
   },
   "outputs": [
    {
     "data": {
      "text/plain": [
       "<Figure size 576x432 with 0 Axes>"
      ]
     },
     "metadata": {},
     "output_type": "display_data"
    },
    {
     "data": {
      "image/png": "[encoded data removed]",
      "text/plain": [
       "<Figure size 432x288 with 1 Axes>"
      ]
     },
     "metadata": {
      "needs_background": "light"
     },
     "output_type": "display_data"
    }
   ],
   "source": [
    "import matplotlib.pyplot as plt\n",
    "import numpy as np\n",
    "\n",
    "base_lr = 0.0025\n",
    "target_lr = 0.0001\n",
    "x = np.arange(12)\n",
    "y = 0.0025 * (1 + 0.5 * x) ** -1.5\n",
    "y_1 = base_lr * (1 - x / 12) ** 2\n",
    "y_2 = target_lr + 0.5 * (0.0025 - target_lr) * (1+np.cos(np.pi*(x/12)))\n",
    "\n",
    "plt.figure(figsize=(8, 6))\n",
    "plt.subplots(1)\n",
    "#plt.plot(x, y)\n",
    "plt.plot(x, y_2)\n",
    "plt.show()"
   ]
  },
  {
   "cell_type": "code",
   "execution_count": null,
   "metadata": {},
   "outputs": [],
   "source": []
  }
 ],
 "metadata": {
  "kernelspec": {
   "display_name": "mmdetection",
   "language": "python",
   "name": "mmdetection"
  },
  "language_info": {
   "codemirror_mode": {
    "name": "ipython",
    "version": 3
   },
   "file_extension": ".py",
   "mimetype": "text/x-python",
   "name": "python",
   "nbconvert_exporter": "python",
   "pygments_lexer": "ipython3",
   "version": "3.6.2"
  },
  "toc": {
   "base_numbering": 1,
   "nav_menu": {},
   "number_sections": true,
   "sideBar": true,
   "skip_h1_title": false,
   "title_cell": "Table of Contents",
   "title_sidebar": "Contents",
   "toc_cell": false,
   "toc_position": {},
   "toc_section_display": true,
   "toc_window_display": false
  }
 },
 "nbformat": 4,
 "nbformat_minor": 2
}
