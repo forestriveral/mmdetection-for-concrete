{
 "cells": [
  {
   "cell_type": "code",
   "execution_count": 1,
   "metadata": {
    "ExecuteTime": {
     "end_time": "2019-04-18T12:35:00.783583Z",
     "start_time": "2019-04-18T12:35:00.063950Z"
    },
    "run_control": {
     "marked": true
    }
   },
   "outputs": [],
   "source": [
    "%matplotlib inline\n",
    "%load_ext autoreload\n",
    "%autoreload 2\n",
    "import os\n",
    "import evaluation"
   ]
  },
  {
   "cell_type": "code",
   "execution_count": 2,
   "metadata": {
    "ExecuteTime": {
     "end_time": "2019-04-18T12:35:00.803189Z",
     "start_time": "2019-04-18T12:35:00.785582Z"
    },
    "run_control": {
     "marked": true
    }
   },
   "outputs": [],
   "source": [
    "cfg = './cm_rcnn_10164.py'\n",
    "chp = '../work_dirs/cm_rcnn_10164_1/latest.pth'\n",
    "output = 'eval_result.pkl'\n",
    "types = ['bbox', 'segm']\n",
    "gnum = 1"
   ]
  },
  {
   "cell_type": "code",
   "execution_count": 3,
   "metadata": {
    "ExecuteTime": {
     "end_time": "2019-04-18T12:35:31.738892Z",
     "start_time": "2019-04-18T12:35:00.804738Z"
    },
    "run_control": {
     "marked": true
    }
   },
   "outputs": [
    {
     "name": "stdout",
     "output_type": "stream",
     "text": [
      "loading annotations into memory...\n",
      "Done (t=0.00s)\n",
      "creating index...\n",
      "index created!\n",
      "[>>>>>>>>>>>>>>>>>>>>>>>>>>>>>>>>>>>>>>>>>>>>>>>>>>] 220/220, 9.2 task/s, elapsed: 24s, ETA:     0s\n",
      "writing detected results to ../detection/cm_rcnn_10164_1/eval_result.pkl\n",
      "......\n",
      "Starting evaluate bbox and segm\n",
      "writing formatted results to ../detection/cm_rcnn_10164_1/eval_result.json\n",
      "......\n",
      "Loading and preparing results...\n",
      "DONE (t=0.00s)\n",
      "creating index...\n",
      "index created!\n",
      "Running per image evaluation...\n",
      "Evaluate annotation type *bbox*\n",
      "DONE (t=0.11s).\n",
      "Accumulating evaluation results...\n",
      "DONE (t=0.02s).\n",
      " Average Precision  (AP) @[ IoU=0.50:0.95 | area=   all | maxDets=100 ] = 0.634\n",
      " Average Precision  (AP) @[ IoU=0.50      | area=   all | maxDets=100 ] = 0.887\n",
      " Average Precision  (AP) @[ IoU=0.75      | area=   all | maxDets=100 ] = 0.752\n",
      " Average Precision  (AP) @[ IoU=0.50:0.95 | area= small | maxDets=100 ] = 0.640\n",
      " Average Precision  (AP) @[ IoU=0.50:0.95 | area=medium | maxDets=100 ] = 0.654\n",
      " Average Precision  (AP) @[ IoU=0.50:0.95 | area= large | maxDets=100 ] = 0.663\n",
      " Average Recall     (AR) @[ IoU=0.50:0.95 | area=   all | maxDets=  1 ] = 0.417\n",
      " Average Recall     (AR) @[ IoU=0.50:0.95 | area=   all | maxDets= 10 ] = 0.665\n",
      " Average Recall     (AR) @[ IoU=0.50:0.95 | area=   all | maxDets=100 ] = 0.665\n",
      " Average Recall     (AR) @[ IoU=0.50:0.95 | area= small | maxDets=100 ] = 0.665\n",
      " Average Recall     (AR) @[ IoU=0.50:0.95 | area=medium | maxDets=100 ] = 0.665\n",
      " Average Recall     (AR) @[ IoU=0.50:0.95 | area= large | maxDets=100 ] = 0.665\n",
      "Running per image evaluation...\n",
      "Evaluate annotation type *segm*\n",
      "DONE (t=0.12s).\n",
      "Accumulating evaluation results...\n",
      "DONE (t=0.02s).\n",
      " Average Precision  (AP) @[ IoU=0.50:0.95 | area=   all | maxDets=100 ] = 0.604\n",
      " Average Precision  (AP) @[ IoU=0.50      | area=   all | maxDets=100 ] = 0.889\n",
      " Average Precision  (AP) @[ IoU=0.75      | area=   all | maxDets=100 ] = 0.707\n",
      " Average Precision  (AP) @[ IoU=0.50:0.95 | area= small | maxDets=100 ] = 0.609\n",
      " Average Precision  (AP) @[ IoU=0.50:0.95 | area=medium | maxDets=100 ] = 0.620\n",
      " Average Precision  (AP) @[ IoU=0.50:0.95 | area= large | maxDets=100 ] = 0.627\n",
      " Average Recall     (AR) @[ IoU=0.50:0.95 | area=   all | maxDets=  1 ] = 0.395\n",
      " Average Recall     (AR) @[ IoU=0.50:0.95 | area=   all | maxDets= 10 ] = 0.628\n",
      " Average Recall     (AR) @[ IoU=0.50:0.95 | area=   all | maxDets=100 ] = 0.628\n",
      " Average Recall     (AR) @[ IoU=0.50:0.95 | area= small | maxDets=100 ] = 0.628\n",
      " Average Recall     (AR) @[ IoU=0.50:0.95 | area=medium | maxDets=100 ] = 0.628\n",
      " Average Recall     (AR) @[ IoU=0.50:0.95 | area= large | maxDets=100 ] = 0.628\n"
     ]
    }
   ],
   "source": [
    "outputs, data = evaluation.coco_evaluate(cfg, chp, output, gpus=gnum,\n",
    "                                           eval_type=types,\n",
    "                                           name=\"cm_rcnn_10164_1\")"
   ]
  },
  {
   "cell_type": "code",
   "execution_count": 4,
   "metadata": {
    "ExecuteTime": {
     "end_time": "2019-04-18T12:35:31.765298Z",
     "start_time": "2019-04-18T12:35:31.741693Z"
    }
   },
   "outputs": [
    {
     "name": "stdout",
     "output_type": "stream",
     "text": [
      "<class 'tuple'>\n"
     ]
    },
    {
     "data": {
      "text/plain": [
       "(4, 5)"
      ]
     },
     "execution_count": 4,
     "metadata": {},
     "output_type": "execute_result"
    }
   ],
   "source": [
    "print(type(outputs[0]))\n",
    "outputs[219][0][0].shape\n"
   ]
  },
  {
   "cell_type": "code",
   "execution_count": 5,
   "metadata": {
    "ExecuteTime": {
     "end_time": "2019-04-18T12:35:31.944773Z",
     "start_time": "2019-04-18T12:35:31.767574Z"
    },
    "run_control": {
     "marked": true
    }
   },
   "outputs": [
    {
     "data": {
      "text/html": [
       "<div>\n",
       "<style scoped>\n",
       "    .dataframe tbody tr th:only-of-type {\n",
       "        vertical-align: middle;\n",
       "    }\n",
       "\n",
       "    .dataframe tbody tr th {\n",
       "        vertical-align: top;\n",
       "    }\n",
       "\n",
       "    .dataframe thead th {\n",
       "        text-align: right;\n",
       "    }\n",
       "</style>\n",
       "<table border=\"1\" class=\"dataframe\">\n",
       "  <thead>\n",
       "    <tr style=\"text-align: right;\">\n",
       "      <th></th>\n",
       "      <th>name</th>\n",
       "      <th>params</th>\n",
       "      <th>bbox_mAP</th>\n",
       "      <th>bbox_50</th>\n",
       "      <th>bbox_75</th>\n",
       "      <th>bbox_s</th>\n",
       "      <th>bbox_m</th>\n",
       "      <th>bbox_l</th>\n",
       "      <th>segm_mAP</th>\n",
       "      <th>segm_50</th>\n",
       "      <th>segm_75</th>\n",
       "      <th>segm_s</th>\n",
       "      <th>segm_m</th>\n",
       "      <th>segm_l</th>\n",
       "    </tr>\n",
       "  </thead>\n",
       "  <tbody>\n",
       "    <tr>\n",
       "      <th>0</th>\n",
       "      <td>cm_rcnn_10164_1</td>\n",
       "      <td>None</td>\n",
       "      <td>0.634</td>\n",
       "      <td>0.887</td>\n",
       "      <td>0.752</td>\n",
       "      <td>0.64</td>\n",
       "      <td>0.654</td>\n",
       "      <td>0.663</td>\n",
       "      <td>0.604</td>\n",
       "      <td>0.889</td>\n",
       "      <td>0.707</td>\n",
       "      <td>0.609</td>\n",
       "      <td>0.62</td>\n",
       "      <td>0.627</td>\n",
       "    </tr>\n",
       "  </tbody>\n",
       "</table>\n",
       "</div>"
      ],
      "text/plain": [
       "              name params  bbox_mAP  bbox_50  bbox_75  bbox_s  bbox_m  bbox_l  \\\n",
       "0  cm_rcnn_10164_1   None     0.634    0.887    0.752    0.64   0.654   0.663   \n",
       "\n",
       "   segm_mAP  segm_50  segm_75  segm_s  segm_m  segm_l  \n",
       "0     0.604    0.889    0.707   0.609    0.62   0.627  "
      ]
     },
     "execution_count": 5,
     "metadata": {},
     "output_type": "execute_result"
    }
   ],
   "source": [
    "data"
   ]
  },
  {
   "cell_type": "code",
   "execution_count": 6,
   "metadata": {
    "ExecuteTime": {
     "end_time": "2019-04-18T12:35:31.974610Z",
     "start_time": "2019-04-18T12:35:31.946316Z"
    }
   },
   "outputs": [
    {
     "data": {
      "text/html": [
       "<div>\n",
       "<style scoped>\n",
       "    .dataframe tbody tr th:only-of-type {\n",
       "        vertical-align: middle;\n",
       "    }\n",
       "\n",
       "    .dataframe tbody tr th {\n",
       "        vertical-align: top;\n",
       "    }\n",
       "\n",
       "    .dataframe thead th {\n",
       "        text-align: right;\n",
       "    }\n",
       "</style>\n",
       "<table border=\"1\" class=\"dataframe\">\n",
       "  <thead>\n",
       "    <tr style=\"text-align: right;\">\n",
       "      <th></th>\n",
       "      <th>name</th>\n",
       "      <th>params</th>\n",
       "      <th>bbox_mAP</th>\n",
       "      <th>bbox_50</th>\n",
       "      <th>bbox_75</th>\n",
       "      <th>bbox_s</th>\n",
       "      <th>bbox_m</th>\n",
       "      <th>bbox_l</th>\n",
       "      <th>segm_mAP</th>\n",
       "      <th>segm_50</th>\n",
       "      <th>segm_75</th>\n",
       "      <th>segm_s</th>\n",
       "      <th>segm_m</th>\n",
       "      <th>segm_l</th>\n",
       "    </tr>\n",
       "  </thead>\n",
       "  <tbody>\n",
       "    <tr>\n",
       "      <th>0</th>\n",
       "      <td>cm_rcnn_10164_1</td>\n",
       "      <td>None</td>\n",
       "      <td>0.634</td>\n",
       "      <td>0.887</td>\n",
       "      <td>0.752</td>\n",
       "      <td>0.64</td>\n",
       "      <td>0.654</td>\n",
       "      <td>0.663</td>\n",
       "      <td>0.604</td>\n",
       "      <td>0.889</td>\n",
       "      <td>0.707</td>\n",
       "      <td>0.609</td>\n",
       "      <td>0.62</td>\n",
       "      <td>0.627</td>\n",
       "    </tr>\n",
       "  </tbody>\n",
       "</table>\n",
       "</div>"
      ],
      "text/plain": [
       "              name params  bbox_mAP  bbox_50  bbox_75  bbox_s  bbox_m  bbox_l  \\\n",
       "0  cm_rcnn_10164_1   None     0.634    0.887    0.752    0.64   0.654   0.663   \n",
       "\n",
       "   segm_mAP  segm_50  segm_75  segm_s  segm_m  segm_l  \n",
       "0     0.604    0.889    0.707   0.609    0.62   0.627  "
      ]
     },
     "execution_count": 6,
     "metadata": {},
     "output_type": "execute_result"
    }
   ],
   "source": [
    "import copy\n",
    "data_1 = copy.deepcopy(data)\n",
    "data_1"
   ]
  },
  {
   "cell_type": "code",
   "execution_count": 9,
   "metadata": {
    "ExecuteTime": {
     "end_time": "2019-04-18T12:28:14.664438Z",
     "start_time": "2019-04-18T12:28:14.631853Z"
    }
   },
   "outputs": [
    {
     "data": {
      "text/html": [
       "<div>\n",
       "<style scoped>\n",
       "    .dataframe tbody tr th:only-of-type {\n",
       "        vertical-align: middle;\n",
       "    }\n",
       "\n",
       "    .dataframe tbody tr th {\n",
       "        vertical-align: top;\n",
       "    }\n",
       "\n",
       "    .dataframe thead th {\n",
       "        text-align: right;\n",
       "    }\n",
       "</style>\n",
       "<table border=\"1\" class=\"dataframe\">\n",
       "  <thead>\n",
       "    <tr style=\"text-align: right;\">\n",
       "      <th></th>\n",
       "      <th>name</th>\n",
       "      <th>params</th>\n",
       "      <th>bbox_mAP</th>\n",
       "      <th>bbox_50</th>\n",
       "      <th>bbox_75</th>\n",
       "      <th>bbox_s</th>\n",
       "      <th>bbox_m</th>\n",
       "      <th>bbox_l</th>\n",
       "      <th>segm_mAP</th>\n",
       "      <th>segm_50</th>\n",
       "      <th>segm_75</th>\n",
       "      <th>segm_s</th>\n",
       "      <th>segm_m</th>\n",
       "      <th>segm_l</th>\n",
       "    </tr>\n",
       "  </thead>\n",
       "  <tbody>\n",
       "    <tr>\n",
       "      <th>0</th>\n",
       "      <td>cm_rcnn_10164_1</td>\n",
       "      <td>None</td>\n",
       "      <td>0.634</td>\n",
       "      <td>0.887</td>\n",
       "      <td>0.752</td>\n",
       "      <td>0.64</td>\n",
       "      <td>0.654</td>\n",
       "      <td>0.663</td>\n",
       "      <td>0.604</td>\n",
       "      <td>0.889</td>\n",
       "      <td>0.707</td>\n",
       "      <td>0.609</td>\n",
       "      <td>0.62</td>\n",
       "      <td>0.627</td>\n",
       "    </tr>\n",
       "    <tr>\n",
       "      <th>0</th>\n",
       "      <td>cm_rcnn_10164_1</td>\n",
       "      <td>None</td>\n",
       "      <td>0.634</td>\n",
       "      <td>0.887</td>\n",
       "      <td>0.752</td>\n",
       "      <td>0.64</td>\n",
       "      <td>0.654</td>\n",
       "      <td>0.663</td>\n",
       "      <td>0.604</td>\n",
       "      <td>0.889</td>\n",
       "      <td>0.707</td>\n",
       "      <td>0.609</td>\n",
       "      <td>0.62</td>\n",
       "      <td>0.627</td>\n",
       "    </tr>\n",
       "  </tbody>\n",
       "</table>\n",
       "</div>"
      ],
      "text/plain": [
       "              name params  bbox_mAP  bbox_50  bbox_75  bbox_s  bbox_m  bbox_l  \\\n",
       "0  cm_rcnn_10164_1   None     0.634    0.887    0.752    0.64   0.654   0.663   \n",
       "0  cm_rcnn_10164_1   None     0.634    0.887    0.752    0.64   0.654   0.663   \n",
       "\n",
       "   segm_mAP  segm_50  segm_75  segm_s  segm_m  segm_l  \n",
       "0     0.604    0.889    0.707   0.609    0.62   0.627  \n",
       "0     0.604    0.889    0.707   0.609    0.62   0.627  "
      ]
     },
     "execution_count": 9,
     "metadata": {},
     "output_type": "execute_result"
    }
   ],
   "source": [
    "f = [data_1, data]\n",
    "f = evaluation.eval_package(f)\n",
    "f"
   ]
  }
 ],
 "metadata": {
  "kernelspec": {
   "display_name": "mmdetection",
   "language": "python",
   "name": "mmdetection"
  },
  "language_info": {
   "codemirror_mode": {
    "name": "ipython",
    "version": 3
   },
   "file_extension": ".py",
   "mimetype": "text/x-python",
   "name": "python",
   "nbconvert_exporter": "python",
   "pygments_lexer": "ipython3",
   "version": "3.6.2"
  },
  "toc": {
   "base_numbering": 1,
   "nav_menu": {},
   "number_sections": true,
   "sideBar": true,
   "skip_h1_title": false,
   "title_cell": "Table of Contents",
   "title_sidebar": "Contents",
   "toc_cell": false,
   "toc_position": {},
   "toc_section_display": true,
   "toc_window_display": false
  }
 },
 "nbformat": 4,
 "nbformat_minor": 2
}
