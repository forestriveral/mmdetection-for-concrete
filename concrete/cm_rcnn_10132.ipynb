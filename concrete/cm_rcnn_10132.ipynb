{
 "cells": [
  {
   "cell_type": "code",
   "execution_count": 1,
   "metadata": {
    "ExecuteTime": {
     "end_time": "2019-04-27T09:59:19.691379Z",
     "start_time": "2019-04-27T09:59:18.543824Z"
    },
    "run_control": {
     "marked": true
    }
   },
   "outputs": [],
   "source": [
    "%matplotlib inline\n",
    "%load_ext autoreload\n",
    "%autoreload 2\n",
    "import os\n",
    "import json\n",
    "import pickle\n",
    "import mmcv\n",
    "import utils\n",
    "import numpy as np\n",
    "import pandas as pd\n",
    "import evaluation\n",
    "import detection\n",
    "import datasets\n",
    "import visualization"
   ]
  },
  {
   "cell_type": "code",
   "execution_count": 2,
   "metadata": {
    "ExecuteTime": {
     "end_time": "2019-04-27T09:59:19.719195Z",
     "start_time": "2019-04-27T09:59:19.693852Z"
    },
    "run_control": {
     "marked": true
    }
   },
   "outputs": [],
   "source": [
    "name = \"cm_rcnn_10132\"\n",
    "filename = \"eval_result.pkl\"\n",
    "cfg = './cfg/cm_rcnn_10132.py'\n",
    "chp = '../work_dirs/cm_rcnn_10132/epoch_12.pth'\n",
    "log_path = \"../work_dirs/cm_rcnn_10132/20190426_212704.log\"\n",
    "#output = '../detection/cm_rcnn_10164_cos/eval_result.json'\n",
    "root = '../detection/cm_rcnn_10132'\n",
    "\n",
    "\n",
    "load_type = \"test\"\n",
    "coco_types = [\"bbox\", \"segm\"]\n",
    "voc_types = \"bbox\"\n",
    "thresh = [0.5, 0.75]"
   ]
  },
  {
   "cell_type": "code",
   "execution_count": 3,
   "metadata": {
    "ExecuteTime": {
     "end_time": "2019-04-27T09:59:19.813171Z",
     "start_time": "2019-04-27T09:59:19.720450Z"
    },
    "run_control": {
     "marked": true
    }
   },
   "outputs": [
    {
     "name": "stdout",
     "output_type": "stream",
     "text": [
      "loading annotations into memory...\n",
      "Done (t=0.00s)\n",
      "creating index...\n",
      "index created!\n",
      "Preparing dataset ......\n",
      "[Dataset is ready now !]\n"
     ]
    }
   ],
   "source": [
    "coco_dataset, concrete = datasets.load_dataset(cfg, load_type)"
   ]
  },
  {
   "cell_type": "code",
   "execution_count": null,
   "metadata": {
    "ExecuteTime": {
     "start_time": "2019-04-27T09:59:18.549Z"
    },
    "scrolled": false
   },
   "outputs": [
    {
     "name": "stdout",
     "output_type": "stream",
     "text": [
      "loading annotations into memory...\n",
      "Done (t=0.00s)\n",
      "creating index...\n",
      "index created!\n"
     ]
    }
   ],
   "source": [
    "data, _, _, _ = evaluation.detect_and_coco_eval(cfg, chp, filename, eval_type=coco_types,\n",
    "                                                name=name, params=None)"
   ]
  },
  {
   "cell_type": "code",
   "execution_count": null,
   "metadata": {
    "ExecuteTime": {
     "start_time": "2019-04-27T09:59:18.552Z"
    },
    "run_control": {
     "marked": true
    }
   },
   "outputs": [],
   "source": [
    "gt, gt_num, det, det_num, class_id = evaluation.voc_ap_prepare(coco_dataset, image_ids=None,\n",
    "                                                               class_names=None,\n",
    "                                                               limit=None, types=voc_types, save=True)\n",
    "targets = utils.voc_ap_compute(coco_dataset, class_id, gt, det, load=False,\n",
    "                               class_names=None, types=voc_types, threshold=thresh)"
   ]
  },
  {
   "cell_type": "code",
   "execution_count": null,
   "metadata": {
    "ExecuteTime": {
     "start_time": "2019-04-27T09:59:18.555Z"
    },
    "run_control": {
     "marked": true
    }
   },
   "outputs": [],
   "source": [
    "save = True\n",
    "\n",
    "visualization.plot_voc_curve(targets, \"crack\", thresh, save=save, name=voc_types, root=root)"
   ]
  },
  {
   "cell_type": "code",
   "execution_count": null,
   "metadata": {
    "ExecuteTime": {
     "start_time": "2019-04-27T09:59:18.557Z"
    }
   },
   "outputs": [],
   "source": [
    "voc_types = \"segm\"\n",
    "\n",
    "gt, gt_num, det, det_num, class_id = evaluation.voc_ap_prepare(coco_dataset, image_ids=None,\n",
    "                                                               class_names=None,\n",
    "                                                               limit=None, types=voc_types, save=True)\n",
    "\n",
    "targets = utils.voc_ap_compute(coco_dataset, class_id, gt, det, load=False,\n",
    "                               class_names=None, types=voc_types, threshold=thresh)"
   ]
  },
  {
   "cell_type": "code",
   "execution_count": null,
   "metadata": {
    "ExecuteTime": {
     "start_time": "2019-04-27T09:59:18.558Z"
    }
   },
   "outputs": [],
   "source": [
    "save = True\n",
    "\n",
    "visualization.plot_voc_curve(targets, \"crack\", thresh, save=save, name=voc_types, root=root)"
   ]
  },
  {
   "cell_type": "code",
   "execution_count": null,
   "metadata": {
    "ExecuteTime": {
     "start_time": "2019-04-27T09:59:18.560Z"
    }
   },
   "outputs": [],
   "source": [
    "training = visualization.read_log(log_path)"
   ]
  },
  {
   "cell_type": "code",
   "execution_count": null,
   "metadata": {
    "ExecuteTime": {
     "start_time": "2019-04-27T09:59:18.563Z"
    }
   },
   "outputs": [],
   "source": [
    "save_1 = True\n",
    "path_1 = \"../detection/cm_rcnn_10132/learning_curve.png\"\n",
    "\n",
    "visualization.plot_training_curve(training, plot=\"loss\", save=save_1, save_path=path_1)"
   ]
  },
  {
   "cell_type": "code",
   "execution_count": null,
   "metadata": {
    "ExecuteTime": {
     "start_time": "2019-04-27T09:59:18.564Z"
    }
   },
   "outputs": [],
   "source": [
    "save_2 = True\n",
    "path_2 = \"../detection/cm_rcnn_10132/learing_rate.png\"\n",
    "\n",
    "visualization.plot_training_curve(training, plot=\"lr\", save=save_2, save_path=path_2)"
   ]
  },
  {
   "cell_type": "code",
   "execution_count": null,
   "metadata": {},
   "outputs": [],
   "source": []
  },
  {
   "cell_type": "code",
   "execution_count": null,
   "metadata": {},
   "outputs": [],
   "source": []
  }
 ],
 "metadata": {
  "kernelspec": {
   "display_name": "mmdetection",
   "language": "python",
   "name": "mmdetection"
  },
  "language_info": {
   "codemirror_mode": {
    "name": "ipython",
    "version": 3
   },
   "file_extension": ".py",
   "mimetype": "text/x-python",
   "name": "python",
   "nbconvert_exporter": "python",
   "pygments_lexer": "ipython3",
   "version": "3.6.2"
  },
  "toc": {
   "base_numbering": 1,
   "nav_menu": {},
   "number_sections": true,
   "sideBar": true,
   "skip_h1_title": false,
   "title_cell": "Table of Contents",
   "title_sidebar": "Contents",
   "toc_cell": false,
   "toc_position": {},
   "toc_section_display": true,
   "toc_window_display": false
  }
 },
 "nbformat": 4,
 "nbformat_minor": 2
}
