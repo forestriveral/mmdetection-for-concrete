{
 "cells": [
  {
   "cell_type": "code",
   "execution_count": 1,
   "metadata": {
    "ExecuteTime": {
     "end_time": "2019-04-23T14:06:35.082043Z",
     "start_time": "2019-04-23T14:06:31.067041Z"
    }
   },
   "outputs": [],
   "source": [
    "%matplotlib inline\n",
    "%load_ext autoreload\n",
    "%autoreload 2\n",
    "from mmcv import Config\n",
    "from mmdet.datasets import get_dataset, build_dataloader"
   ]
  },
  {
   "cell_type": "code",
   "execution_count": 2,
   "metadata": {
    "ExecuteTime": {
     "end_time": "2019-04-23T14:06:35.100790Z",
     "start_time": "2019-04-23T14:06:35.087582Z"
    }
   },
   "outputs": [],
   "source": [
    "config = \"cfg/cm_rcnn_10164.py\""
   ]
  },
  {
   "cell_type": "code",
   "execution_count": 3,
   "metadata": {
    "ExecuteTime": {
     "end_time": "2019-04-23T14:06:35.171095Z",
     "start_time": "2019-04-23T14:06:35.102533Z"
    }
   },
   "outputs": [],
   "source": [
    "cfg = Config.fromfile(config)"
   ]
  },
  {
   "cell_type": "code",
   "execution_count": 5,
   "metadata": {
    "ExecuteTime": {
     "end_time": "2019-04-23T14:07:08.771045Z",
     "start_time": "2019-04-23T14:07:08.726612Z"
    }
   },
   "outputs": [
    {
     "data": {
      "text/plain": [
       "{'interval': 100, 'val_interval': 30, 'hooks': [{'type': 'TextLoggerHook'}]}"
      ]
     },
     "execution_count": 5,
     "metadata": {},
     "output_type": "execute_result"
    }
   ],
   "source": [
    "c = cfg.log_config\n",
    "c"
   ]
  },
  {
   "cell_type": "code",
   "execution_count": 6,
   "metadata": {
    "ExecuteTime": {
     "end_time": "2019-04-23T14:07:17.996561Z",
     "start_time": "2019-04-23T14:07:17.981191Z"
    }
   },
   "outputs": [
    {
     "data": {
      "text/plain": [
       "100"
      ]
     },
     "execution_count": 6,
     "metadata": {},
     "output_type": "execute_result"
    }
   ],
   "source": [
    "c.interval"
   ]
  },
  {
   "cell_type": "code",
   "execution_count": 4,
   "metadata": {
    "ExecuteTime": {
     "end_time": "2019-04-23T11:45:57.736433Z",
     "start_time": "2019-04-23T11:45:57.655928Z"
    }
   },
   "outputs": [
    {
     "name": "stdout",
     "output_type": "stream",
     "text": [
      "loading annotations into memory...\n",
      "Done (t=0.01s)\n",
      "creating index...\n",
      "index created!\n"
     ]
    }
   ],
   "source": [
    "val_dataset = get_dataset(cfg.data.val)"
   ]
  },
  {
   "cell_type": "code",
   "execution_count": 5,
   "metadata": {
    "ExecuteTime": {
     "end_time": "2019-04-23T11:45:57.812009Z",
     "start_time": "2019-04-23T11:45:57.737921Z"
    }
   },
   "outputs": [],
   "source": [
    "data_loader = build_dataloader(val_dataset, cfg.data.imgs_per_gpu,\n",
    "                               cfg.data.workers_per_gpu, dist=True)"
   ]
  },
  {
   "cell_type": "code",
   "execution_count": 8,
   "metadata": {
    "ExecuteTime": {
     "end_time": "2019-04-23T11:47:42.928819Z",
     "start_time": "2019-04-23T11:47:42.888896Z"
    },
    "collapsed": true
   },
   "outputs": [
    {
     "data": {
      "text/plain": [
       "['_DataLoader__initialized',\n",
       " '__class__',\n",
       " '__delattr__',\n",
       " '__dict__',\n",
       " '__dir__',\n",
       " '__doc__',\n",
       " '__eq__',\n",
       " '__format__',\n",
       " '__ge__',\n",
       " '__getattribute__',\n",
       " '__gt__',\n",
       " '__hash__',\n",
       " '__init__',\n",
       " '__init_subclass__',\n",
       " '__iter__',\n",
       " '__le__',\n",
       " '__len__',\n",
       " '__lt__',\n",
       " '__module__',\n",
       " '__ne__',\n",
       " '__new__',\n",
       " '__reduce__',\n",
       " '__reduce_ex__',\n",
       " '__repr__',\n",
       " '__setattr__',\n",
       " '__sizeof__',\n",
       " '__str__',\n",
       " '__subclasshook__',\n",
       " '__weakref__',\n",
       " 'batch_sampler',\n",
       " 'batch_size',\n",
       " 'collate_fn',\n",
       " 'dataset',\n",
       " 'drop_last',\n",
       " 'num_workers',\n",
       " 'pin_memory',\n",
       " 'sampler',\n",
       " 'timeout',\n",
       " 'worker_init_fn']"
      ]
     },
     "execution_count": 8,
     "metadata": {},
     "output_type": "execute_result"
    }
   ],
   "source": [
    "dir(data_loader)"
   ]
  },
  {
   "cell_type": "code",
   "execution_count": 67,
   "metadata": {
    "ExecuteTime": {
     "end_time": "2019-04-23T12:33:57.087668Z",
     "start_time": "2019-04-23T12:33:57.069149Z"
    },
    "scrolled": false
   },
   "outputs": [],
   "source": [
    "def data_output(loader, n, m):\n",
    "    data = []\n",
    "    for i, data_batch in enumerate(loader):\n",
    "        if i > n and i < m:\n",
    "            data.append(data_batch)\n",
    "            print(data_batch[\"gt_bboxes\"])\n",
    "        elif i <= n:\n",
    "            continue\n",
    "        else:\n",
    "            break\n",
    "    return data\n",
    "\n",
    "def comparsion_data(data, n):\n",
    "    for i in range(n):\n",
    "        if data[0][i][\"gt_bboxes\"] == data[1][i][\"gt_bboxes\"]:\n",
    "            print(\"{} True\".format(i))\n",
    "        else:\n",
    "            print(\"{} False\".format(i))\n",
    "        if i >= n:\n",
    "            break"
   ]
  },
  {
   "cell_type": "code",
   "execution_count": 70,
   "metadata": {
    "ExecuteTime": {
     "end_time": "2019-04-23T12:34:44.380410Z",
     "start_time": "2019-04-23T12:34:43.710278Z"
    }
   },
   "outputs": [
    {
     "name": "stdout",
     "output_type": "stream",
     "text": [
      "DataContainer([[tensor([[ 45., 118.,  53., 133.]]), tensor([[ 55., 119.,  78., 146.],\n",
      "        [158., 171., 178., 197.],\n",
      "        [164.,   1., 181.,  16.]])]])\n",
      "============================\n",
      "DataContainer([[tensor([[ 45., 118.,  53., 133.]]), tensor([[ 55., 119.,  78., 146.],\n",
      "        [158., 171., 178., 197.],\n",
      "        [164.,   1., 181.,  16.]])]])\n"
     ]
    }
   ],
   "source": [
    "n = 5\n",
    "\n",
    "data_1 = data_output(data_loader, 16, 18)\n",
    "print(\"============================\")\n",
    "data_2 = data_output(data_loader, 16, 18)"
   ]
  },
  {
   "cell_type": "code",
   "execution_count": 31,
   "metadata": {
    "ExecuteTime": {
     "end_time": "2019-04-23T12:19:20.826826Z",
     "start_time": "2019-04-23T12:19:20.790465Z"
    }
   },
   "outputs": [
    {
     "data": {
      "text/plain": [
       "dict_keys(['img', 'img_meta', 'gt_bboxes', 'gt_labels', 'gt_bboxes_ignore', 'gt_masks'])"
      ]
     },
     "execution_count": 31,
     "metadata": {},
     "output_type": "execute_result"
    }
   ],
   "source": [
    "data_1[0].keys()"
   ]
  },
  {
   "cell_type": "code",
   "execution_count": 32,
   "metadata": {
    "ExecuteTime": {
     "end_time": "2019-04-23T12:19:21.716161Z",
     "start_time": "2019-04-23T12:19:21.676194Z"
    }
   },
   "outputs": [
    {
     "name": "stdout",
     "output_type": "stream",
     "text": [
      "0 False\n",
      "1 False\n",
      "2 False\n",
      "3 False\n",
      "4 False\n"
     ]
    }
   ],
   "source": [
    "comparsion_data([data_1, data_2], n)"
   ]
  },
  {
   "cell_type": "code",
   "execution_count": null,
   "metadata": {},
   "outputs": [],
   "source": [
    "data_1[i][\"gt_bboxes\"]"
   ]
  },
  {
   "cell_type": "code",
   "execution_count": null,
   "metadata": {},
   "outputs": [],
   "source": [
    "data_2[i][\"gt_bboxes\"]"
   ]
  },
  {
   "cell_type": "code",
   "execution_count": 2,
   "metadata": {
    "ExecuteTime": {
     "end_time": "2019-04-23T14:25:10.804109Z",
     "start_time": "2019-04-23T14:25:10.795018Z"
    }
   },
   "outputs": [
    {
     "data": {
      "text/plain": [
       "[198,\n",
       " 77,\n",
       " 184,\n",
       " 196,\n",
       " 170,\n",
       " 55,\n",
       " 5,\n",
       " 68,\n",
       " 131,\n",
       " 166,\n",
       " 28,\n",
       " 120,\n",
       " 82,\n",
       " 194,\n",
       " 60,\n",
       " 23,\n",
       " 85,\n",
       " 165,\n",
       " 183,\n",
       " 169,\n",
       " 89,\n",
       " 106,\n",
       " 104,\n",
       " 108,\n",
       " 187,\n",
       " 134,\n",
       " 174,\n",
       " 211,\n",
       " 81,\n",
       " 145]"
      ]
     },
     "execution_count": 2,
     "metadata": {},
     "output_type": "execute_result"
    }
   ],
   "source": [
    "import random\n",
    "\n",
    "a = random.sample(range(0,218), 30)\n",
    "a"
   ]
  },
  {
   "cell_type": "code",
   "execution_count": null,
   "metadata": {},
   "outputs": [],
   "source": []
  },
  {
   "cell_type": "code",
   "execution_count": null,
   "metadata": {},
   "outputs": [],
   "source": []
  }
 ],
 "metadata": {
  "kernelspec": {
   "display_name": "mmdetection",
   "language": "python",
   "name": "mmdetection"
  },
  "language_info": {
   "codemirror_mode": {
    "name": "ipython",
    "version": 3
   },
   "file_extension": ".py",
   "mimetype": "text/x-python",
   "name": "python",
   "nbconvert_exporter": "python",
   "pygments_lexer": "ipython3",
   "version": "3.6.2"
  },
  "toc": {
   "base_numbering": 1,
   "nav_menu": {},
   "number_sections": true,
   "sideBar": true,
   "skip_h1_title": false,
   "title_cell": "Table of Contents",
   "title_sidebar": "Contents",
   "toc_cell": false,
   "toc_position": {},
   "toc_section_display": true,
   "toc_window_display": false
  }
 },
 "nbformat": 4,
 "nbformat_minor": 2
}
