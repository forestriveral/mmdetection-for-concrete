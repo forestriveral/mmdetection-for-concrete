{
 "cells": [
  {
   "cell_type": "code",
   "execution_count": 1,
   "metadata": {
    "ExecuteTime": {
     "end_time": "2019-04-28T12:36:38.757126Z",
     "start_time": "2019-04-28T12:36:37.714032Z"
    },
    "run_control": {
     "marked": true
    }
   },
   "outputs": [],
   "source": [
    "%matplotlib inline\n",
    "%load_ext autoreload\n",
    "%autoreload 2\n",
    "import os\n",
    "import json\n",
    "import pickle\n",
    "import mmcv\n",
    "import utils\n",
    "import numpy as np\n",
    "import pandas as pd\n",
    "import evaluation\n",
    "import detection\n",
    "import datasets\n",
    "import visualization"
   ]
  },
  {
   "cell_type": "code",
   "execution_count": 9,
   "metadata": {
    "ExecuteTime": {
     "end_time": "2019-04-28T08:07:11.210659Z",
     "start_time": "2019-04-28T08:07:11.130567Z"
    },
    "run_control": {
     "marked": true
    }
   },
   "outputs": [],
   "source": [
    "name = \"faster_rcnn_bughole\"\n",
    "filename = \"eval_result.pkl\"\n",
    "cfg = './cfg/bughole/faster_rcnn_bughole.py'\n",
    "chp = '../work_dirs/faster_rcnn_bughole/epoch_12.pth'\n",
    "log_path = \"../work_dirs/faster_rcnn_bughole/20190428_105038.log\"\n",
    "#output = '../detection/cm_rcnn_10164_cos/eval_result.json'\n",
    "root = '../detection/faster_rcnn_bughole'\n",
    "\n",
    "\n",
    "load_type = \"test\"\n",
    "coco_types = [\"bbox\"]\n",
    "voc_types = \"bbox\"\n",
    "thresh = [0.5, 0.75]"
   ]
  },
  {
   "cell_type": "code",
   "execution_count": 10,
   "metadata": {
    "ExecuteTime": {
     "end_time": "2019-04-28T08:07:11.319744Z",
     "start_time": "2019-04-28T08:07:11.211931Z"
    },
    "run_control": {
     "marked": true
    }
   },
   "outputs": [
    {
     "name": "stdout",
     "output_type": "stream",
     "text": [
      "loading annotations into memory...\n",
      "Done (t=0.00s)\n",
      "creating index...\n",
      "index created!\n",
      "Preparing dataset ......\n",
      "[Dataset is ready now !]\n"
     ]
    }
   ],
   "source": [
    "coco_dataset, concrete = datasets.load_dataset(cfg, load_type)"
   ]
  },
  {
   "cell_type": "code",
   "execution_count": 11,
   "metadata": {
    "ExecuteTime": {
     "end_time": "2019-04-28T08:08:10.396028Z",
     "start_time": "2019-04-28T08:07:11.323104Z"
    },
    "scrolled": false
   },
   "outputs": [
    {
     "name": "stdout",
     "output_type": "stream",
     "text": [
      "loading annotations into memory...\n",
      "Done (t=0.00s)\n",
      "creating index...\n",
      "index created!\n",
      "[>>>>>>>>>>>>>>>>>>>>>>>>>>>>>>>>>>>>>>>>>>>>>>>>>>] 220/220, 5.8 task/s, elapsed: 38s, ETA:     0sfaster_rcnn_bughole detection datasets done!\n",
      "\n",
      "Writing detected results to ../detection/faster_rcnn_bughole/eval_result.pkl\n",
      "......\n",
      "Writing done to pkl file: ../detection/faster_rcnn_bughole/eval_result.pkl\n",
      "\n",
      "Writing formatted results to ../detection/faster_rcnn_bughole/eval_result.json\n",
      "......\n",
      "Writing done to json file: ../detection/faster_rcnn_bughole/eval_result.json\n",
      "\n",
      "Starting evaluate bbox ......\n",
      "Loading and preparing results...\n",
      "DONE (t=0.00s)\n",
      "creating index...\n",
      "index created!\n",
      "Running per image evaluation...\n",
      "Evaluate annotation type *bbox*\n",
      "DONE (t=0.11s).\n",
      "Accumulating evaluation results...\n",
      "DONE (t=0.02s).\n",
      " Average Precision  (AP) @[ IoU=0.50:0.95 | area=   all | maxDets=100 ] = 0.603\n",
      " Average Precision  (AP) @[ IoU=0.50      | area=   all | maxDets=100 ] = 0.926\n",
      " Average Precision  (AP) @[ IoU=0.75      | area=   all | maxDets=100 ] = 0.714\n",
      " Average Precision  (AP) @[ IoU=0.50:0.95 | area= small | maxDets=100 ] = 0.606\n",
      " Average Precision  (AP) @[ IoU=0.50:0.95 | area=medium | maxDets=100 ] = 0.640\n",
      " Average Precision  (AP) @[ IoU=0.50:0.95 | area= large | maxDets=100 ] = 0.647\n",
      " Average Recall     (AR) @[ IoU=0.50:0.95 | area=   all | maxDets=  1 ] = 0.385\n",
      " Average Recall     (AR) @[ IoU=0.50:0.95 | area=   all | maxDets= 10 ] = 0.648\n",
      " Average Recall     (AR) @[ IoU=0.50:0.95 | area=   all | maxDets=100 ] = 0.648\n",
      " Average Recall     (AR) @[ IoU=0.50:0.95 | area= small | maxDets=100 ] = 0.648\n",
      " Average Recall     (AR) @[ IoU=0.50:0.95 | area=medium | maxDets=100 ] = 0.648\n",
      " Average Recall     (AR) @[ IoU=0.50:0.95 | area= large | maxDets=100 ] = 0.648\n",
      "pdframe data written done![../detection/faster_rcnn_bughole/coco_val.csv]\n"
     ]
    }
   ],
   "source": [
    "data, _, _, _ = evaluation.detect_and_coco_eval(cfg, chp, filename, eval_type=coco_types,\n",
    "                                                name=name, params=None)"
   ]
  },
  {
   "cell_type": "code",
   "execution_count": 2,
   "metadata": {
    "ExecuteTime": {
     "end_time": "2019-04-28T12:36:41.755802Z",
     "start_time": "2019-04-28T12:36:41.727999Z"
    }
   },
   "outputs": [],
   "source": [
    "score = 0.7\n",
    "cfg = './cfg/bughole/faster_rcnn_bughole.py'\n",
    "dataset = \"bughole\"\n",
    "output = '../detection/faster_rcnn_bughole/eval_result.json'\n",
    "model_path = '../work_dirs/faster_rcnn_bughole/latest.pth'\n",
    "images_path = \"../data/coco/bugholes_eval/*.JPG\"\n",
    "#images_path = \"../data/coco/bughole_33.jpg\"\n",
    "save_dir = \"./bugholes_faster\""
   ]
  },
  {
   "cell_type": "code",
   "execution_count": 3,
   "metadata": {
    "ExecuteTime": {
     "end_time": "2019-04-28T12:38:32.768756Z",
     "start_time": "2019-04-28T12:36:44.751439Z"
    },
    "scrolled": false
   },
   "outputs": [
    {
     "name": "stdout",
     "output_type": "stream",
     "text": [
      "[>>>>>>>>>>>>>>>>>>>>>>>>>>>>>>>>>>>>>>>>>>>>>>>>>>] 62/62, 0.6 task/s, elapsed: 102s, ETA:     0s"
     ]
    }
   ],
   "source": [
    "save = \"./bugholes_faster/111.png\"\n",
    "\n",
    "c, m = detection.initiate_detector(cfg, model_path)\n",
    "detection.multi_detect_plot(c, m, dataset, score, images_path, save=save_dir)\n",
    "#detection.single_detect_plot(c, m, images_path, dataset, score_thr, save=None)\n",
    "#detection.single_detect(c, m, images_path, dataset, save=None)"
   ]
  }
 ],
 "metadata": {
  "kernelspec": {
   "display_name": "mmdetection",
   "language": "python",
   "name": "mmdetection"
  },
  "language_info": {
   "codemirror_mode": {
    "name": "ipython",
    "version": 3
   },
   "file_extension": ".py",
   "mimetype": "text/x-python",
   "name": "python",
   "nbconvert_exporter": "python",
   "pygments_lexer": "ipython3",
   "version": "3.6.2"
  },
  "toc": {
   "base_numbering": 1,
   "nav_menu": {},
   "number_sections": true,
   "sideBar": true,
   "skip_h1_title": false,
   "title_cell": "Table of Contents",
   "title_sidebar": "Contents",
   "toc_cell": false,
   "toc_position": {},
   "toc_section_display": true,
   "toc_window_display": false
  }
 },
 "nbformat": 4,
 "nbformat_minor": 2
}
