{
 "cells": [
  {
   "cell_type": "code",
   "execution_count": 1,
   "metadata": {
    "ExecuteTime": {
     "end_time": "2019-04-28T12:39:22.921941Z",
     "start_time": "2019-04-28T12:39:21.777680Z"
    },
    "run_control": {
     "marked": true
    }
   },
   "outputs": [],
   "source": [
    "%matplotlib inline\n",
    "%load_ext autoreload\n",
    "%autoreload 2\n",
    "import os\n",
    "import json\n",
    "import pickle\n",
    "import mmcv\n",
    "import utils\n",
    "import numpy as np\n",
    "import pandas as pd\n",
    "import evaluation\n",
    "import detection\n",
    "import datasets\n",
    "import visualization\n",
    "import utils"
   ]
  },
  {
   "cell_type": "code",
   "execution_count": 2,
   "metadata": {
    "ExecuteTime": {
     "end_time": "2019-04-28T08:43:20.699335Z",
     "start_time": "2019-04-28T08:43:20.679126Z"
    },
    "run_control": {
     "marked": true
    }
   },
   "outputs": [],
   "source": [
    "name = \"retinanet_bughole\"\n",
    "filename = \"eval_result.pkl\"\n",
    "cfg = './cfg/bughole/retinanet_bughole.py'\n",
    "chp = '../work_dirs/retinanet_bughole/epoch_12.pth'\n",
    "log_path = \"../work_dirs/retinanet_bughole/20190428_120352.log\"\n",
    "#output = '../detection/cm_rcnn_10164_cos/eval_result.json'\n",
    "root = '../detection/retinanet_bughole'\n",
    "\n",
    "\n",
    "load_type = \"test\"\n",
    "coco_types = [\"bbox\"]\n",
    "voc_types = \"bbox\"\n",
    "thresh = [0.5, 0.75]"
   ]
  },
  {
   "cell_type": "code",
   "execution_count": 3,
   "metadata": {
    "ExecuteTime": {
     "end_time": "2019-04-28T08:43:20.834078Z",
     "start_time": "2019-04-28T08:43:20.703731Z"
    },
    "run_control": {
     "marked": true
    }
   },
   "outputs": [
    {
     "name": "stdout",
     "output_type": "stream",
     "text": [
      "loading annotations into memory...\n",
      "Done (t=0.00s)\n",
      "creating index...\n",
      "index created!\n",
      "Preparing dataset ......\n",
      "[Dataset is ready now !]\n"
     ]
    }
   ],
   "source": [
    "coco_dataset, concrete = datasets.load_dataset(cfg, load_type)"
   ]
  },
  {
   "cell_type": "code",
   "execution_count": 4,
   "metadata": {
    "ExecuteTime": {
     "end_time": "2019-04-28T08:44:11.482888Z",
     "start_time": "2019-04-28T08:43:20.836260Z"
    },
    "scrolled": false
   },
   "outputs": [
    {
     "name": "stdout",
     "output_type": "stream",
     "text": [
      "loading annotations into memory...\n",
      "Done (t=0.00s)\n",
      "creating index...\n",
      "index created!\n",
      "[>>>>>>>>>>>>>>>>>>>>>>>>>>>>>>>>>>>>>>>>>>>>>>>>>>] 220/220, 6.2 task/s, elapsed: 35s, ETA:     0sretinanet_bughole detection datasets done!\n",
      "\n",
      "Writing detected results to ../detection/retinanet_bughole/eval_result.pkl\n",
      "......\n",
      "Writing done to pkl file: ../detection/retinanet_bughole/eval_result.pkl\n",
      "\n",
      "Writing formatted results to ../detection/retinanet_bughole/eval_result.json\n",
      "......\n",
      "Writing done to json file: ../detection/retinanet_bughole/eval_result.json\n",
      "\n",
      "Starting evaluate bbox ......\n",
      "Loading and preparing results...\n",
      "DONE (t=0.00s)\n",
      "creating index...\n",
      "index created!\n",
      "Running per image evaluation...\n",
      "Evaluate annotation type *bbox*\n",
      "DONE (t=0.14s).\n",
      "Accumulating evaluation results...\n",
      "DONE (t=0.03s).\n",
      " Average Precision  (AP) @[ IoU=0.50:0.95 | area=   all | maxDets=100 ] = 0.579\n",
      " Average Precision  (AP) @[ IoU=0.50      | area=   all | maxDets=100 ] = 0.925\n",
      " Average Precision  (AP) @[ IoU=0.75      | area=   all | maxDets=100 ] = 0.647\n",
      " Average Precision  (AP) @[ IoU=0.50:0.95 | area= small | maxDets=100 ] = 0.588\n",
      " Average Precision  (AP) @[ IoU=0.50:0.95 | area=medium | maxDets=100 ] = 0.624\n",
      " Average Precision  (AP) @[ IoU=0.50:0.95 | area= large | maxDets=100 ] = 0.642\n",
      " Average Recall     (AR) @[ IoU=0.50:0.95 | area=   all | maxDets=  1 ] = 0.375\n",
      " Average Recall     (AR) @[ IoU=0.50:0.95 | area=   all | maxDets= 10 ] = 0.642\n",
      " Average Recall     (AR) @[ IoU=0.50:0.95 | area=   all | maxDets=100 ] = 0.642\n",
      " Average Recall     (AR) @[ IoU=0.50:0.95 | area= small | maxDets=100 ] = 0.642\n",
      " Average Recall     (AR) @[ IoU=0.50:0.95 | area=medium | maxDets=100 ] = 0.642\n",
      " Average Recall     (AR) @[ IoU=0.50:0.95 | area= large | maxDets=100 ] = 0.642\n",
      "pdframe data written done![../detection/retinanet_bughole/coco_val.csv]\n"
     ]
    }
   ],
   "source": [
    "data, _, _, _ = evaluation.detect_and_coco_eval(cfg, chp, filename, eval_type=coco_types,\n",
    "                                                name=name, params=None)"
   ]
  },
  {
   "cell_type": "code",
   "execution_count": 5,
   "metadata": {
    "ExecuteTime": {
     "end_time": "2019-04-28T12:40:11.568268Z",
     "start_time": "2019-04-28T12:40:11.541031Z"
    }
   },
   "outputs": [],
   "source": [
    "score = 0.7\n",
    "cfg = './cfg/bughole/retinanet_bughole.py'\n",
    "dataset = \"bughole\"\n",
    "output = '../detection/retinanet_bughole/eval_result.json'\n",
    "model_path = '../work_dirs/retinanet_bughole/latest.pth'\n",
    "images_path = \"../data/coco/bugholes_eval/*.JPG\"\n",
    "save_dir = \"./bugholes_retinanet\""
   ]
  },
  {
   "cell_type": "code",
   "execution_count": 6,
   "metadata": {
    "ExecuteTime": {
     "end_time": "2019-04-28T12:42:05.378635Z",
     "start_time": "2019-04-28T12:40:13.937748Z"
    },
    "scrolled": false
   },
   "outputs": [
    {
     "name": "stdout",
     "output_type": "stream",
     "text": [
      "[>>>>>>>>>>>>>>>>>>>>>>>>>>>>>>>>>>>>>>>>>>>>>>>>>>] 62/62, 0.6 task/s, elapsed: 109s, ETA:     0s"
     ]
    }
   ],
   "source": [
    "c, m = detection.initiate_detector(cfg, model_path)\n",
    "detection.multi_detect_plot(c, m, dataset, score, images_path, save=save_dir)"
   ]
  }
 ],
 "metadata": {
  "kernelspec": {
   "display_name": "mmdetection",
   "language": "python",
   "name": "mmdetection"
  },
  "language_info": {
   "codemirror_mode": {
    "name": "ipython",
    "version": 3
   },
   "file_extension": ".py",
   "mimetype": "text/x-python",
   "name": "python",
   "nbconvert_exporter": "python",
   "pygments_lexer": "ipython3",
   "version": "3.6.2"
  },
  "toc": {
   "base_numbering": 1,
   "nav_menu": {},
   "number_sections": true,
   "sideBar": true,
   "skip_h1_title": false,
   "title_cell": "Table of Contents",
   "title_sidebar": "Contents",
   "toc_cell": false,
   "toc_position": {},
   "toc_section_display": true,
   "toc_window_display": false
  }
 },
 "nbformat": 4,
 "nbformat_minor": 2
}
