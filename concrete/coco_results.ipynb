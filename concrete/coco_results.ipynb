{
 "cells": [
  {
   "cell_type": "code",
   "execution_count": 1,
   "metadata": {
    "ExecuteTime": {
     "end_time": "2019-04-18T05:01:18.202213Z",
     "start_time": "2019-04-18T05:01:15.561918Z"
    },
    "run_control": {
     "marked": true
    }
   },
   "outputs": [],
   "source": [
    "%matplotlib inline\n",
    "%load_ext autoreload\n",
    "%autoreload 2\n",
    "import detection\n",
    "import mmcv\n",
    "import numpy as np\n",
    "import matplotlib.pyplot as plt\n",
    "from mmdet.apis import inference_detector"
   ]
  },
  {
   "cell_type": "code",
   "execution_count": 2,
   "metadata": {
    "ExecuteTime": {
     "end_time": "2019-04-18T05:01:18.222301Z",
     "start_time": "2019-04-18T05:01:18.204230Z"
    },
    "run_control": {
     "marked": true
    }
   },
   "outputs": [],
   "source": [
    "config_path = '../configs/cascade_mask_rcnn_r50_fpn_1x.py'\n",
    "model_path = '../models/cascade_mask_rcnn_r50_fpn_1x_20181123-88b170c9.pth'\n",
    "image_path = './images/giraffe.jpg'"
   ]
  },
  {
   "cell_type": "code",
   "execution_count": 3,
   "metadata": {
    "ExecuteTime": {
     "end_time": "2019-04-18T05:01:22.478275Z",
     "start_time": "2019-04-18T05:01:18.223534Z"
    },
    "run_control": {
     "marked": true
    }
   },
   "outputs": [],
   "source": [
    "c, m = mask.initiate_detector(config_path, model_path)\n",
    "# single_detect(c, m, image_path, save=\"./images/detected/person.jpg\")\n",
    "#mask.single_detect_plot(c, m, image_path, save=None)"
   ]
  },
  {
   "cell_type": "code",
   "execution_count": 4,
   "metadata": {
    "ExecuteTime": {
     "end_time": "2019-04-18T05:01:22.498565Z",
     "start_time": "2019-04-18T05:01:22.480351Z"
    },
    "run_control": {
     "marked": true
    }
   },
   "outputs": [],
   "source": [
    "def single_detect(cfg, model, image, save=None):\n",
    "    img = mmcv.imread(image)\n",
    "    result = inference_detector(model, img, cfg)\n",
    "    return result"
   ]
  },
  {
   "cell_type": "code",
   "execution_count": 5,
   "metadata": {
    "ExecuteTime": {
     "end_time": "2019-04-18T05:01:25.791060Z",
     "start_time": "2019-04-18T05:01:22.500003Z"
    },
    "run_control": {
     "marked": true
    }
   },
   "outputs": [],
   "source": [
    "result = single_detect(c, m, image_path, save=None)"
   ]
  },
  {
   "cell_type": "code",
   "execution_count": 7,
   "metadata": {
    "ExecuteTime": {
     "end_time": "2019-04-18T05:02:47.381710Z",
     "start_time": "2019-04-18T05:02:47.340757Z"
    }
   },
   "outputs": [
    {
     "data": {
      "text/plain": [
       "tuple"
      ]
     },
     "execution_count": 7,
     "metadata": {},
     "output_type": "execute_result"
    }
   ],
   "source": [
    "type(result)"
   ]
  },
  {
   "cell_type": "code",
   "execution_count": 8,
   "metadata": {
    "ExecuteTime": {
     "end_time": "2019-04-18T05:03:13.837888Z",
     "start_time": "2019-04-18T05:03:13.804184Z"
    }
   },
   "outputs": [
    {
     "data": {
      "text/plain": [
       "2"
      ]
     },
     "execution_count": 8,
     "metadata": {},
     "output_type": "execute_result"
    }
   ],
   "source": [
    "len(result)"
   ]
  },
  {
   "cell_type": "code",
   "execution_count": 21,
   "metadata": {
    "ExecuteTime": {
     "end_time": "2019-04-18T05:17:10.647482Z",
     "start_time": "2019-04-18T05:17:10.605862Z"
    }
   },
   "outputs": [
    {
     "name": "stdout",
     "output_type": "stream",
     "text": [
      "\n",
      "ID:  22\n",
      "bbox:  [[2.5846912e+02 2.0435945e+02 4.2543124e+02 4.4343011e+02 9.8263127e-01]\n",
      " [1.6196536e+02 3.2754059e+01 4.5046124e+02 4.3845609e+02 8.2908906e-02]]\n",
      "\n",
      "ID:  23\n",
      "bbox:  [[1.6055826e+02 3.3396301e+01 4.4900549e+02 4.3860049e+02 9.8993391e-01]\n",
      " [6.0792565e-01 4.1732208e+02 2.4951801e+01 4.4498245e+02 1.1385619e-01]]\n"
     ]
    }
   ],
   "source": [
    "def searching_bboxes(result):\n",
    "    bboxes = []\n",
    "    for i, bbox in enumerate(result[0]):\n",
    "        if bbox.size:\n",
    "            print(\"\\nID: \", i)\n",
    "            print(\"bbox: \", bbox)\n",
    "            bboxes.append(bbox)\n",
    "    return bboxes\n",
    "\n",
    "bboxes = searching_bboxes(result)"
   ]
  },
  {
   "cell_type": "code",
   "execution_count": 23,
   "metadata": {
    "ExecuteTime": {
     "end_time": "2019-04-18T05:17:46.948434Z",
     "start_time": "2019-04-18T05:17:46.907969Z"
    }
   },
   "outputs": [
    {
     "name": "stdout",
     "output_type": "stream",
     "text": [
      "\n",
      "ID:  22\n",
      "segm:  [{'size': [500, 500], 'counts': b'iXn3S3a<000O2M5J7J8G9H7J2O0O01N2O0[OjDkLZ;P3g0E<A>F:J7L3M4K5L5D;K6K4B>J6Il_3j0^_Lm0UO2M3N1N3N5K000001O00001J5OO^NhBi0W<RO`Cl0^1lNo:c1V1;J6N4K5M3N2O0O2O000O2O0000001O0001O01O00001O2N1O2O0O2N6Jh0XO6J1N3N000000001O00O1O1O1O1N2N2N2M2E<G9K5N200O01`MPN\\\\Go1b8WN[Gi1c8[NZGf1e8]NXGd1g8^NWGd1g8_NUGd1e8dNWG^1h8cNVGd1_OnL^8`1PH^2l7cMQHa2m7bMoG`2P8dMfGc2Y8]2O001O00O1N2O1N7I3M3K5H8G8I8K5M4J6I7G8K5L5L3M4J5eNWE]MV;Y2X1K5M3L4L4K5M3M3N1O2N1O2M3N1N4M3M3L3M4K4N1000]lS1'}, {'size': [500, 500], 'counts': b'\\\\i^2S1a>0000000O2L8H9E:G<jGjMY2b2\\\\JPOfN]Oc6o1PJW1a5VOkIU1S6W4O1O1O1O1N2O1O1N2N2N2O1O1OG9L4[OaIQHd6a7n0E;C=I7J6M201O1O1N2N2M3N2N3M2N3N101O0O1O2N1O0O2O10O11N10001O1N1N3M3M2N3N2N2O0O2O1O00100O001O001O01O2N1N2O1O1O2O0O100O2^IlJb2U5lLaKo2`4[LYL`3i3ULeLg3\\\\3oKoLo3S3dKZMZ4j2WKcMf4g2eJfMZ5\\\\6N1O1NN2N2M2M3M4K4M4L4N2L5I6K5L3N3M2N2N2O2N2O1O12O0O2O1N2N1O3M2N2N3M3M3M2N3N1N3M3N2N3L4MM3J6I6J7K5L4M3M2N3O1N2N1N3N2L3N3N1M4M2N2M3NL25K5K5J6K5K5L4M3M3N2M3L4G9C=VMWF]OU:;\\\\FUOk9h0]FnNh9P1]FjNf9U1]FgNe9X1^FdNd9[1]FdNd9Z1_FdNb9Z1aFcNa9\\\\1aFbN`9\\\\1cFbN^9]1cF[Ne9d1]FUNi9j1Q2O1O100000WDXNf9h1XF\\\\Nf9d1YF_Ne9a1ZFaNe9_1ZFdNd9\\\\1[FfNd9Z1ZFiNe9W1ZFjNf9V1YFlNf9T1XFmNi9S1TFPOl9Q1QFQOo9o0nETOR:l0lEVOT:k0gEXOZ:h0cE[O]:f0`E\\\\O`:d0^E^Ob:c0[E_Oe:b0YE^Oh:d0TE]Om:h0lDYOU;n0bDTO^;`21O1O1O1O1O1O1N2O1N9H2MYJkLTOS3c0ZM[Od24PNKm1\\\\OTM_KX1T5b1\\\\OVOb0i0_O_MUKU1^5Z1@WM`KV1T5`1=TNGj1S7N2N2N2N3M2N3M2N3M3M3LnFTNb4i1]KZNe4b1ZK`Ni4\\\\1WKfNi4Y1TKjNn4S1QKPOo4n0oJUOR5j0QKROQ5m0TKmNn4Q1m4N1O3M2M2O1O1N2O001O0O2O1O0O2O1O0O2O1N>B[Un0'}]\n",
      "\n",
      "ID:  23\n",
      "segm:  [{'size': [500, 500], 'counts': b'_ga2;n>h0ZOe0]O`0D;hDnN@iNP6b2PJQ1g5WOlI[1g5lNoIY1o5nNgIW1X6S4N2O1N2O1N2N2N2N2O1O1OF:L4WOi0B>F:G9K5M3N2N2N2N1N3L4M3N2N3N1O1O2O0O2N1O1N2N10100O10001O001N1O2M3M2O2N2N101N2O1N101O1O001O10O001O1O1O1N2O100O1O1O10001O0O2O1SIUKo2l4mK]Lm3d3aKRMZ4o2[K^Ma4e2VKdMh4`2nJhMP5]2fJjMW5\\\\2aJdMa5V61N2L3N2M4M2O2N3M2N2K5H8L3M4M2N2N2O2N3O01O2O0O2O1N2N2N2N3M3M3M3M2N3M2N3N1N4M2M4MN2J5K6J6I7L4L4M2O2M3O1N1N3N1N3M2N2O2M2OJ53L4K5J6J6J6J6K5M3M3M3N2M3L4L4A?C=WMZF]Om9`0\\\\FUOi9i0\\\\FPOh9o0\\\\FlNf9S1\\\\FjNf9T1^FiNc9V1_FgNc9W1`FfNb9X1aFeNa9Y1bFeN_9Z1dF`N`9^1cFVNh9i1R2O100O100000WDYNe9g1YF]Ne9c1ZF_Ne9a1ZFaNe9_1ZFcNe9\\\\1[FfNd9Z1[FhNd9X1[FiNe9X1XFjNh9V1VFlNj9T1TFnNl9R1QFQOo9o0nETOR:m0jEVOV:j0hEXOX:h0eE[O[:f0bE\\\\O^:d0`E^O`:c0^E]Oc:d0ZE^Of:d0VE]Ok:e0QE\\\\OP;l0fDUO[;b20O1O1O1O1O1N2O1N2O1N2O^JeLUOR3c0ZM[Od25PNIn12ZNMd14[NMc1<SNHk1j0aMZO\\\\2Q7N2N2N2N2N2N2N2N3M3M4K4MmFTNc4h1\\\\K[Nf4a1YKbNh4[1VKiNk4T1SKoNn4P1oJTOQ5k0QKROQ5l0UKmNn4R1XKgNj4X1k4N2M3N2N1O1N2O1O001N2O001O0O2O1O0O2O1N\\\\en0'}, {'size': [500, 500], 'counts': b'S=g0m>2N0001O1O1O001O001O001O001O001O001N2N2O1N2O1NPPX7'}]\n"
     ]
    }
   ],
   "source": [
    "def searching_segms(result):\n",
    "    segms = []\n",
    "    for i, segm in enumerate(result[1]):\n",
    "        if len(segm) != 0:\n",
    "            print(\"\\nID: \", i)\n",
    "            print(\"segm: \", segm)\n",
    "            segms.append(segm)\n",
    "    return segms\n",
    "\n",
    "segms = searching_segms(result)"
   ]
  },
  {
   "cell_type": "code",
   "execution_count": 28,
   "metadata": {
    "ExecuteTime": {
     "end_time": "2019-04-18T05:19:09.038378Z",
     "start_time": "2019-04-18T05:19:08.996053Z"
    }
   },
   "outputs": [
    {
     "data": {
      "text/plain": [
       "dict_keys(['size', 'counts'])"
      ]
     },
     "execution_count": 28,
     "metadata": {},
     "output_type": "execute_result"
    }
   ],
   "source": [
    "segms[0][0].keys()"
   ]
  }
 ],
 "metadata": {
  "kernelspec": {
   "display_name": "mmdetection",
   "language": "python",
   "name": "mmdetection"
  },
  "language_info": {
   "codemirror_mode": {
    "name": "ipython",
    "version": 3
   },
   "file_extension": ".py",
   "mimetype": "text/x-python",
   "name": "python",
   "nbconvert_exporter": "python",
   "pygments_lexer": "ipython3",
   "version": "3.6.2"
  },
  "toc": {
   "base_numbering": 1,
   "nav_menu": {},
   "number_sections": true,
   "sideBar": true,
   "skip_h1_title": false,
   "title_cell": "Table of Contents",
   "title_sidebar": "Contents",
   "toc_cell": false,
   "toc_position": {},
   "toc_section_display": true,
   "toc_window_display": false
  }
 },
 "nbformat": 4,
 "nbformat_minor": 2
}
