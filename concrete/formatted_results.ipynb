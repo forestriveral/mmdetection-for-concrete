{
 "cells": [
  {
   "cell_type": "code",
   "execution_count": 1,
   "metadata": {
    "ExecuteTime": {
     "end_time": "2019-04-20T13:25:45.545789Z",
     "start_time": "2019-04-20T13:25:44.455684Z"
    },
    "run_control": {
     "marked": true
    }
   },
   "outputs": [],
   "source": [
    "%matplotlib inline\n",
    "%load_ext autoreload\n",
    "%autoreload 2\n",
    "import os\n",
    "import evaluation\n",
    "import numpy as np\n",
    "import pandas as pd\n",
    "import json\n",
    "import detection\n",
    "import mmcv\n",
    "import matplotlib.pyplot as plt\n",
    "from mmdet.apis import inference_detector, show_result"
   ]
  },
  {
   "cell_type": "code",
   "execution_count": 2,
   "metadata": {
    "ExecuteTime": {
     "end_time": "2019-04-20T13:25:45.568488Z",
     "start_time": "2019-04-20T13:25:45.547888Z"
    },
    "run_control": {
     "marked": true
    }
   },
   "outputs": [],
   "source": [
    "cfg = './cm_rcnn_10164.py'\n",
    "output = '../detection/cm_rcnn_10164_1/eval_result.json'\n",
    "chp = '../work_dirs/cm_rcnn_10164_1/latest.pth'\n",
    "config_path = '../configs/cascade_mask_rcnn_r50_fpn_1x.py'\n",
    "model_path = '../models/cascade_mask_rcnn_r50_fpn_1x_20181123-88b170c9.pth'\n",
    "#image_path = './images/giraffe.jpg'\n",
    "#image_path = \"../data/coco/test/256_02015.png\"\n",
    "image_path = \"../data/coco/test/256_02153.png\""
   ]
  },
  {
   "cell_type": "code",
   "execution_count": 3,
   "metadata": {
    "ExecuteTime": {
     "end_time": "2019-04-20T11:27:41.467808Z",
     "start_time": "2019-04-20T11:27:35.199193Z"
    },
    "run_control": {
     "marked": false
    }
   },
   "outputs": [],
   "source": [
    "c, m = detection.initiate_detector(cfg, chp)"
   ]
  },
  {
   "cell_type": "code",
   "execution_count": 4,
   "metadata": {
    "ExecuteTime": {
     "end_time": "2019-04-20T11:27:41.847812Z",
     "start_time": "2019-04-20T11:27:41.469500Z"
    },
    "run_control": {
     "marked": false
    }
   },
   "outputs": [],
   "source": [
    "img = mmcv.imread(image_path)\n",
    "result = inference_detector(m, img, c)\n",
    "#detection.show_mask_result(img, result)"
   ]
  },
  {
   "cell_type": "code",
   "execution_count": 6,
   "metadata": {
    "ExecuteTime": {
     "end_time": "2019-04-20T11:29:23.209021Z",
     "start_time": "2019-04-20T11:29:23.158186Z"
    }
   },
   "outputs": [
    {
     "name": "stdout",
     "output_type": "stream",
     "text": [
      "=== 0:  {'size': [256, 256], 'counts': b'gcR19f74K4M2M2O2M2O1O1N2000000001O1O1N101N2N2N2N4K7IY\\\\g0'}\n",
      "=== 2:  {'size': [256, 256], 'counts': b'^Ph12m73M2O000000O3Nbo5'}\n"
     ]
    }
   ],
   "source": [
    "detection.show_result(img, result)"
   ]
  },
  {
   "cell_type": "code",
   "execution_count": 3,
   "metadata": {
    "ExecuteTime": {
     "end_time": "2019-04-20T13:25:48.362883Z",
     "start_time": "2019-04-20T13:25:48.320423Z"
    }
   },
   "outputs": [],
   "source": [
    "r = evaluation.read_json_result(output)"
   ]
  },
  {
   "cell_type": "code",
   "execution_count": 4,
   "metadata": {
    "ExecuteTime": {
     "end_time": "2019-04-20T13:25:50.423666Z",
     "start_time": "2019-04-20T13:25:50.377685Z"
    }
   },
   "outputs": [
    {
     "data": {
      "text/plain": [
       "[{'image_id': 1,\n",
       "  'bbox': [162.29299926757812,\n",
       "   141.74639892578125,\n",
       "   11.871978759765625,\n",
       "   12.360992431640625],\n",
       "  'score': 0.48194417357444763,\n",
       "  'category_id': 1,\n",
       "  'segmentation': {'size': [256, 256],\n",
       "   'counts': 'adX13l73M2O2M110O01O1O0O2M`cd0'}},\n",
       " {'image_id': 2,\n",
       "  'bbox': [137.75894165039062,\n",
       "   105.80927276611328,\n",
       "   24.248443603515625,\n",
       "   30.018699645996094],\n",
       "  'score': 0.9979156851768494,\n",
       "  'category_id': 1,\n",
       "  'segmentation': {'size': [256, 256],\n",
       "   'counts': 'gcR19f74K4M2M2O2M2O1O1N2000000001O1O1N101N2N2N2N4K7IY\\\\g0'}},\n",
       " {'image_id': 2,\n",
       "  'bbox': [237.519287109375,\n",
       "   0.3660101890563965,\n",
       "   7.1134033203125,\n",
       "   6.903261184692383],\n",
       "  'score': 0.14392051100730896,\n",
       "  'category_id': 1,\n",
       "  'segmentation': {'size': [256, 256], 'counts': 'QXk12m73N1O0001N1OPP3'}},\n",
       " {'image_id': 2,\n",
       "  'bbox': [224.7773895263672,\n",
       "   11.037059783935547,\n",
       "   7.35986328125,\n",
       "   8.912721633911133],\n",
       "  'score': 0.3813335597515106,\n",
       "  'category_id': 1,\n",
       "  'segmentation': {'size': [256, 256], 'counts': '^Ph12m73M2O000000O3Nbo5'}},\n",
       " {'image_id': 2,\n",
       "  'bbox': [91.89352416992188,\n",
       "   80.1557846069336,\n",
       "   7.653411865234375,\n",
       "   8.511581420898438],\n",
       "  'score': 0.15385587513446808,\n",
       "  'category_id': 1,\n",
       "  'segmentation': {'size': [256, 256], 'counts': 'aRg05k71O1O0001N2N^UW1'}},\n",
       " {'image_id': 3,\n",
       "  'bbox': [10.293312072753906,\n",
       "   217.62191772460938,\n",
       "   39.04505157470703,\n",
       "   35.024932861328125],\n",
       "  'score': 0.9995160102844238,\n",
       "  'category_id': 1,\n",
       "  'segmentation': {'size': [256, 256],\n",
       "   'counts': 'Pg22l74M4L7I5K2O2N2N1O1O2O00O010O00000000O100000O100O101N100O2O0O2O1N2N2N2O2L3O3Lh`c1'}},\n",
       " {'image_id': 3,\n",
       "  'bbox': [243.83668518066406,\n",
       "   163.3809814453125,\n",
       "   10.522003173828125,\n",
       "   18.115386962890625],\n",
       "  'score': 0.9434807300567627,\n",
       "  'category_id': 1,\n",
       "  'segmentation': {'size': [256, 256],\n",
       "   'counts': 'WUm19e75L2O1O00000001N3Mj:'}},\n",
       " {'image_id': 3,\n",
       "  'bbox': [204.0771484375,\n",
       "   70.21466064453125,\n",
       "   16.692626953125,\n",
       "   27.77703857421875],\n",
       "  'score': 0.9983377456665039,\n",
       "  'category_id': 1,\n",
       "  'segmentation': {'size': [256, 256],\n",
       "   'counts': '\\\\Zc19e79G4M2O0010O100O1O1O1O2N4L3K\\\\m8'}}]"
      ]
     },
     "execution_count": 4,
     "metadata": {},
     "output_type": "execute_result"
    }
   ],
   "source": [
    "r[0:8]"
   ]
  },
  {
   "cell_type": "code",
   "execution_count": null,
   "metadata": {},
   "outputs": [],
   "source": []
  },
  {
   "cell_type": "code",
   "execution_count": null,
   "metadata": {},
   "outputs": [],
   "source": []
  }
 ],
 "metadata": {
  "kernelspec": {
   "display_name": "mmdetection",
   "language": "python",
   "name": "mmdetection"
  },
  "language_info": {
   "codemirror_mode": {
    "name": "ipython",
    "version": 3
   },
   "file_extension": ".py",
   "mimetype": "text/x-python",
   "name": "python",
   "nbconvert_exporter": "python",
   "pygments_lexer": "ipython3",
   "version": "3.6.2"
  },
  "toc": {
   "base_numbering": 1,
   "nav_menu": {},
   "number_sections": true,
   "sideBar": true,
   "skip_h1_title": false,
   "title_cell": "Table of Contents",
   "title_sidebar": "Contents",
   "toc_cell": false,
   "toc_position": {},
   "toc_section_display": true,
   "toc_window_display": false
  }
 },
 "nbformat": 4,
 "nbformat_minor": 2
}
